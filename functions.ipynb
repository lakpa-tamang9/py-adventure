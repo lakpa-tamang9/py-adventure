{
 "cells": [
  {
   "cell_type": "code",
   "execution_count": 1,
   "source": [
    "def greet_user():\n",
    "    \"\"\"Display a simple greeting\"\"\"\n",
    "    print(\"Hello user!\")"
   ],
   "outputs": [],
   "metadata": {}
  },
  {
   "cell_type": "code",
   "execution_count": 2,
   "source": [
    "greet_user()"
   ],
   "outputs": [
    {
     "output_type": "stream",
     "name": "stdout",
     "text": [
      "Hello user!\n"
     ]
    }
   ],
   "metadata": {}
  },
  {
   "cell_type": "code",
   "execution_count": 4,
   "source": [
    "# Parameter is given to the function while writing it.\n",
    "# Arguments are provided during a function call.\n",
    "# Basically they represent the same thing in a function (inside parenthesis)"
   ],
   "outputs": [],
   "metadata": {}
  },
  {
   "cell_type": "code",
   "execution_count": 5,
   "source": [
    "# positional arguments:  These arguments need to be in the same order the parametes were written in the function.\n",
    "# keyword arguments: These arguments consists of a variable name and a value; a list and dictionaries of values."
   ],
   "outputs": [],
   "metadata": {}
  },
  {
   "cell_type": "code",
   "execution_count": 6,
   "source": [
    "def describe_pet(animal_type, pet_name):\n",
    "    print(f\"\\n I have a {animal_type} and its name is {pet_name}\")"
   ],
   "outputs": [],
   "metadata": {}
  },
  {
   "cell_type": "code",
   "execution_count": 7,
   "source": [
    "describe_pet('dog', 'tom')"
   ],
   "outputs": [
    {
     "output_type": "stream",
     "name": "stdout",
     "text": [
      "\n",
      " I have a dog and its name is tom\n"
     ]
    }
   ],
   "metadata": {}
  },
  {
   "cell_type": "code",
   "execution_count": 11,
   "source": [
    "describe_pet(pet_name='biralo', animal_type='cat')\n",
    "# While using key word arguments, you dont need to worry about the position of the arguments."
   ],
   "outputs": [
    {
     "output_type": "stream",
     "name": "stdout",
     "text": [
      "\n",
      " I have a cat and its name is biralo\n"
     ]
    }
   ],
   "metadata": {}
  },
  {
   "cell_type": "code",
   "execution_count": 13,
   "source": [
    "# Default parameter \n",
    "def describe_person(name, race = 'asian'):\n",
    "    print(f\"He is {name.title()}, and he is {race}\")"
   ],
   "outputs": [],
   "metadata": {}
  },
  {
   "cell_type": "code",
   "execution_count": 17,
   "source": [
    "describe_person('tom')\n",
    "describe_person('jack', race = 'white')\n",
    "# Although the default arguments are provided in the function, we can still change its value when calling.\n",
    "# This allows the function to ignore the default values, and interpret the arguments from the function call"
   ],
   "outputs": [
    {
     "output_type": "stream",
     "name": "stdout",
     "text": [
      "He is Tom, and he is asian\n",
      "He is Jack, and he is white\n"
     ]
    }
   ],
   "metadata": {}
  },
  {
   "cell_type": "code",
   "execution_count": null,
   "source": [],
   "outputs": [],
   "metadata": {}
  }
 ],
 "metadata": {
  "orig_nbformat": 4,
  "language_info": {
   "name": "python",
   "version": "3.8.11",
   "mimetype": "text/x-python",
   "codemirror_mode": {
    "name": "ipython",
    "version": 3
   },
   "pygments_lexer": "ipython3",
   "nbconvert_exporter": "python",
   "file_extension": ".py"
  },
  "kernelspec": {
   "name": "python3",
   "display_name": "Python 3.8.11 64-bit ('tf': conda)"
  },
  "interpreter": {
   "hash": "76e6dbcbedfc789c6bdfea9f5f6e3f9775163cbbecd25c875c5a303bce686157"
  }
 },
 "nbformat": 4,
 "nbformat_minor": 2
}