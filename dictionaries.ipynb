{
 "cells": [
  {
   "cell_type": "markdown",
   "source": [
    "Dictionaries in python"
   ],
   "metadata": {}
  },
  {
   "cell_type": "code",
   "execution_count": 6,
   "source": [
    "alien_0 = {'color':'green', 'points':5}\n",
    "alien_1 = {'color': 'black', 'points': 10}\n",
    "alien_2 = {'color': 'red', 'points': 15}\n",
    "\n",
    "aliens = [alien_0, alien_1, alien_2]# creting list of dictionaries\n",
    "for alien in aliens:\n",
    "    print(f\"The {alien['color']} color alien provides {alien['points']} points\")\n",
    "    for color, points in alien.items():\n",
    "        print(f\"{color}{points}\")\n"
   ],
   "outputs": [
    {
     "output_type": "stream",
     "name": "stdout",
     "text": [
      "The green color alien provides 5 points\n",
      "colorgreen\n",
      "points5\n",
      "The black color alien provides 10 points\n",
      "colorblack\n",
      "points10\n",
      "The red color alien provides 15 points\n",
      "colorred\n",
      "points15\n"
     ]
    }
   ],
   "metadata": {}
  },
  {
   "cell_type": "code",
   "execution_count": 8,
   "source": [
    "# Making an empty list for storing aliens\n",
    "aliens = []\n",
    "# Add 30 aliens of green color\n",
    "\n",
    "for alien_number in range(30):\n",
    "    new_alien = {'color': 'green', 'points' : 40, 'speed' : 'slow'}\n",
    "    aliens.append(new_alien)"
   ],
   "outputs": [],
   "metadata": {}
  },
  {
   "cell_type": "code",
   "execution_count": 9,
   "source": [
    "for alien in aliens[:5]:    # First five aliens\n",
    "    print(alien)"
   ],
   "outputs": [
    {
     "output_type": "stream",
     "name": "stdout",
     "text": [
      "{'color': 'green', 'points': 40, 'speed': 'slow'}\n",
      "{'color': 'green', 'points': 40, 'speed': 'slow'}\n",
      "{'color': 'green', 'points': 40, 'speed': 'slow'}\n",
      "{'color': 'green', 'points': 40, 'speed': 'slow'}\n",
      "{'color': 'green', 'points': 40, 'speed': 'slow'}\n"
     ]
    }
   ],
   "metadata": {}
  },
  {
   "cell_type": "code",
   "execution_count": 10,
   "source": [
    "# Changing first three aliens to yellow, slow speed slies decrease 10 points\n",
    "for alien in aliens[:3]:\n",
    "    if alien['color'] == 'green':\n",
    "        alien['color'] = 'blue'\n",
    "        alien['points'] = 30\n",
    "        alien['speed'] = 'slow'"
   ],
   "outputs": [],
   "metadata": {}
  },
  {
   "cell_type": "code",
   "execution_count": 11,
   "source": [
    "aliens[:3]"
   ],
   "outputs": [
    {
     "output_type": "execute_result",
     "data": {
      "text/plain": [
       "[{'color': 'blue', 'points': 30, 'speed': 'slow'},\n",
       " {'color': 'blue', 'points': 30, 'speed': 'slow'},\n",
       " {'color': 'blue', 'points': 30, 'speed': 'slow'}]"
      ]
     },
     "metadata": {},
     "execution_count": 11
    }
   ],
   "metadata": {}
  },
  {
   "cell_type": "markdown",
   "source": [
    "list inside a dictionary"
   ],
   "metadata": {}
  },
  {
   "cell_type": "code",
   "execution_count": 18,
   "source": [
    "# Creating a pizza dictionary\n",
    "pizza = {'crust': 'thick', 'toppings': ['chicken', 'mushroom', 'cheese']} # Here the key toppings has a list as an item\n",
    "print(f\"You ordered a {pizza['crust']} pizza with\")\n",
    "for topping in pizza['toppings']:\n",
    "    print(f'\\n{topping} toppings')"
   ],
   "outputs": [
    {
     "output_type": "stream",
     "name": "stdout",
     "text": [
      "You ordered a thick pizza with\n",
      "\n",
      "chicken toppings\n",
      "\n",
      "mushroom toppings\n",
      "\n",
      "cheese toppings\n"
     ]
    }
   ],
   "metadata": {}
  },
  {
   "cell_type": "code",
   "execution_count": 22,
   "source": [
    "# Favourite langaueges\n",
    "fav_langs = {'Lakpa': ['python', 'javascript'], 'jack': ['matlab', 'C'], 'pemdu': ['none']}\n",
    "for name, languages in fav_langs.items():\n",
    "    if len(languages) > 1:\n",
    "        print(f\"{name.title()}'s favourite language are:\")\n",
    "        for language in languages:\n",
    "            print(f\"\\n {language.title()}\")\n",
    "    else:\n",
    "        print(f\"{name.title()}'s favourite language is:\")\n",
    "        for language in languages:\n",
    "            print(f\"\\n {language.title()}\")"
   ],
   "outputs": [
    {
     "output_type": "stream",
     "name": "stdout",
     "text": [
      "Lakpa's favourite language are:\n",
      "\n",
      " Python\n",
      "\n",
      " Javascript\n",
      "Jack's favourite language are:\n",
      "\n",
      " Matlab\n",
      "\n",
      " C\n",
      "Pemdu's favourite language is:\n",
      "\n",
      " None\n"
     ]
    }
   ],
   "metadata": {}
  },
  {
   "cell_type": "markdown",
   "source": [
    "# Dictionaries within dictionaries\n",
    "For example if you have several users for a wbsite, and each with a unique username. By storing the usernames as a key of a dictionary, you can again store more information in another dictionary associated with the key. In this case, the dictionary will be value of a certain key."
   ],
   "metadata": {}
  },
  {
   "cell_type": "code",
   "execution_count": 31,
   "source": [
    "users = {\n",
    "    'l_tmg': {'first_name': 'lakpa', 'last_name': 'tamang', 'age': 25},\n",
    "    's_lama': {'first_name': 'soobi', 'last_name':'lama', 'age':26}}\n",
    "for username, user_details in users.items():\n",
    "    for user_detail, value in user_details.items():\n",
    "        print(f\"The person with {username} username is\")"
   ],
   "outputs": [
    {
     "output_type": "stream",
     "name": "stdout",
     "text": [
      "The person with l_tmg username is\n",
      "The person with l_tmg username is\n",
      "The person with l_tmg username is\n",
      "The person with s_lama username is\n",
      "The person with s_lama username is\n",
      "The person with s_lama username is\n"
     ]
    }
   ],
   "metadata": {}
  },
  {
   "cell_type": "code",
   "execution_count": null,
   "source": [],
   "outputs": [],
   "metadata": {}
  },
  {
   "cell_type": "markdown",
   "source": [
    "While loops"
   ],
   "metadata": {}
  },
  {
   "cell_type": "code",
   "execution_count": 4,
   "source": [
    "toppings = ['strawberry', 'mushroom', 'cheese', 'sweetpotato']"
   ],
   "outputs": [],
   "metadata": {}
  },
  {
   "cell_type": "code",
   "execution_count": 8,
   "source": [
    "count = 1\n",
    "while count <= len(toppings):\n",
    "    print(f\"You added {count} as toppping to your pizza.\")\n",
    "    count += 1"
   ],
   "outputs": [
    {
     "output_type": "stream",
     "name": "stdout",
     "text": [
      "You added 1 as toppping to your pizza.\n",
      "You added 2 as toppping to your pizza.\n",
      "You added 3 as toppping to your pizza.\n",
      "You added 4 as toppping to your pizza.\n"
     ]
    }
   ],
   "metadata": {}
  },
  {
   "cell_type": "code",
   "execution_count": 11,
   "source": [
    "while True:\n",
    "    age = input(\"Whats your age?\")\n",
    "\n",
    "    if age < 3:\n",
    "        print(\"Free\")\n",
    "    elif age >=3 and age < 12:\n",
    "        print(\"please pay 10$\")\n",
    "    elif age > 12:\n",
    "        print(\"Pay 15$\")\n",
    "    else:\n",
    "        break"
   ],
   "outputs": [
    {
     "output_type": "error",
     "ename": "TypeError",
     "evalue": "'<' not supported between instances of 'str' and 'int'",
     "traceback": [
      "\u001b[0;31m---------------------------------------------------------------------------\u001b[0m",
      "\u001b[0;31mTypeError\u001b[0m                                 Traceback (most recent call last)",
      "\u001b[0;32m/var/folders/bf/hw443_ds36985hq1dr8c1nmm0000gn/T/ipykernel_12446/2511237705.py\u001b[0m in \u001b[0;36m<module>\u001b[0;34m\u001b[0m\n\u001b[1;32m      2\u001b[0m     \u001b[0mage\u001b[0m \u001b[0;34m=\u001b[0m \u001b[0minput\u001b[0m\u001b[0;34m(\u001b[0m\u001b[0;34m\"Whats your age?\"\u001b[0m\u001b[0;34m)\u001b[0m\u001b[0;34m\u001b[0m\u001b[0;34m\u001b[0m\u001b[0m\n\u001b[1;32m      3\u001b[0m \u001b[0;34m\u001b[0m\u001b[0m\n\u001b[0;32m----> 4\u001b[0;31m     \u001b[0;32mif\u001b[0m \u001b[0mage\u001b[0m \u001b[0;34m<\u001b[0m \u001b[0;36m3\u001b[0m\u001b[0;34m:\u001b[0m\u001b[0;34m\u001b[0m\u001b[0;34m\u001b[0m\u001b[0m\n\u001b[0m\u001b[1;32m      5\u001b[0m         \u001b[0mprint\u001b[0m\u001b[0;34m(\u001b[0m\u001b[0;34m\"Free\"\u001b[0m\u001b[0;34m)\u001b[0m\u001b[0;34m\u001b[0m\u001b[0;34m\u001b[0m\u001b[0m\n\u001b[1;32m      6\u001b[0m     \u001b[0;32melif\u001b[0m \u001b[0mage\u001b[0m \u001b[0;34m>=\u001b[0m\u001b[0;36m3\u001b[0m \u001b[0;32mand\u001b[0m \u001b[0mage\u001b[0m \u001b[0;34m<\u001b[0m \u001b[0;36m12\u001b[0m\u001b[0;34m:\u001b[0m\u001b[0;34m\u001b[0m\u001b[0;34m\u001b[0m\u001b[0m\n",
      "\u001b[0;31mTypeError\u001b[0m: '<' not supported between instances of 'str' and 'int'"
     ]
    }
   ],
   "metadata": {}
  },
  {
   "cell_type": "code",
   "execution_count": null,
   "source": [],
   "outputs": [],
   "metadata": {}
  }
 ],
 "metadata": {
  "orig_nbformat": 4,
  "language_info": {
   "name": "python",
   "version": "3.8.11",
   "mimetype": "text/x-python",
   "codemirror_mode": {
    "name": "ipython",
    "version": 3
   },
   "pygments_lexer": "ipython3",
   "nbconvert_exporter": "python",
   "file_extension": ".py"
  },
  "kernelspec": {
   "name": "python3",
   "display_name": "Python 3.8.11 64-bit ('tf': conda)"
  },
  "interpreter": {
   "hash": "76e6dbcbedfc789c6bdfea9f5f6e3f9775163cbbecd25c875c5a303bce686157"
  }
 },
 "nbformat": 4,
 "nbformat_minor": 2
}