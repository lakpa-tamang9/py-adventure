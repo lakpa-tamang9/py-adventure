{
 "cells": [
  {
   "cell_type": "markdown",
   "source": [
    "Dictionaries in python"
   ],
   "metadata": {}
  },
  {
   "cell_type": "code",
   "execution_count": 6,
   "source": [
    "alien_0 = {'color':'green', 'points':5}\n",
    "alien_1 = {'color': 'black', 'points': 10}\n",
    "alien_2 = {'color': 'red', 'points': 15}\n",
    "\n",
    "aliens = [alien_0, alien_1, alien_2]# creting list of dictionaries\n",
    "for alien in aliens:\n",
    "    print(f\"The {alien['color']} color alien provides {alien['points']} points\")\n",
    "    for color, points in alien.items():\n",
    "        print(f\"{color}{points}\")\n"
   ],
   "outputs": [
    {
     "output_type": "stream",
     "name": "stdout",
     "text": [
      "The green color alien provides 5 points\n",
      "colorgreen\n",
      "points5\n",
      "The black color alien provides 10 points\n",
      "colorblack\n",
      "points10\n",
      "The red color alien provides 15 points\n",
      "colorred\n",
      "points15\n"
     ]
    }
   ],
   "metadata": {}
  },
  {
   "cell_type": "code",
   "execution_count": 8,
   "source": [
    "# Making an empty list for storing aliens\n",
    "aliens = []\n",
    "# Add 30 aliens of green color\n",
    "\n",
    "for alien_number in range(30):\n",
    "    new_alien = {'color': 'green', 'points' : 40, 'speed' : 'slow'}\n",
    "    aliens.append(new_alien)"
   ],
   "outputs": [],
   "metadata": {}
  },
  {
   "cell_type": "code",
   "execution_count": 9,
   "source": [
    "for alien in aliens[:5]:    # First five aliens\n",
    "    print(alien)"
   ],
   "outputs": [
    {
     "output_type": "stream",
     "name": "stdout",
     "text": [
      "{'color': 'green', 'points': 40, 'speed': 'slow'}\n",
      "{'color': 'green', 'points': 40, 'speed': 'slow'}\n",
      "{'color': 'green', 'points': 40, 'speed': 'slow'}\n",
      "{'color': 'green', 'points': 40, 'speed': 'slow'}\n",
      "{'color': 'green', 'points': 40, 'speed': 'slow'}\n"
     ]
    }
   ],
   "metadata": {}
  },
  {
   "cell_type": "code",
   "execution_count": 10,
   "source": [
    "# Changing first three aliens to yellow, slow speed slies decrease 10 points\n",
    "for alien in aliens[:3]:\n",
    "    if alien['color'] == 'green':\n",
    "        alien['color'] = 'blue'\n",
    "        alien['points'] = 30\n",
    "        alien['speed'] = 'slow'"
   ],
   "outputs": [],
   "metadata": {}
  },
  {
   "cell_type": "code",
   "execution_count": 11,
   "source": [
    "aliens[:3]"
   ],
   "outputs": [
    {
     "output_type": "execute_result",
     "data": {
      "text/plain": [
       "[{'color': 'blue', 'points': 30, 'speed': 'slow'},\n",
       " {'color': 'blue', 'points': 30, 'speed': 'slow'},\n",
       " {'color': 'blue', 'points': 30, 'speed': 'slow'}]"
      ]
     },
     "metadata": {},
     "execution_count": 11
    }
   ],
   "metadata": {}
  },
  {
   "cell_type": "code",
   "execution_count": null,
   "source": [],
   "outputs": [],
   "metadata": {}
  }
 ],
 "metadata": {
  "orig_nbformat": 4,
  "language_info": {
   "name": "python",
   "version": "3.8.11",
   "mimetype": "text/x-python",
   "codemirror_mode": {
    "name": "ipython",
    "version": 3
   },
   "pygments_lexer": "ipython3",
   "nbconvert_exporter": "python",
   "file_extension": ".py"
  },
  "kernelspec": {
   "name": "python3",
   "display_name": "Python 3.8.11 64-bit ('tf': conda)"
  },
  "interpreter": {
   "hash": "76e6dbcbedfc789c6bdfea9f5f6e3f9775163cbbecd25c875c5a303bce686157"
  }
 },
 "nbformat": 4,
 "nbformat_minor": 2
}